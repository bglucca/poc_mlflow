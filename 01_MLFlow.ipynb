{
 "cells": [
  {
   "cell_type": "code",
   "execution_count": 1,
   "metadata": {},
   "outputs": [],
   "source": [
    "import pandas as pd\n",
    "import numpy as np\n",
    "\n",
    "from sklearn.linear_model import LinearRegression, ElasticNet\n",
    "from sklearn.tree import DecisionTreeRegressor\n",
    "from sklearn.ensemble import RandomForestRegressor\n",
    "\n",
    "from sklearn.model_selection import train_test_split, GridSearchCV\n",
    "from sklearn.metrics import mean_squared_error, mean_absolute_error, r2_score\n",
    "\n",
    "import mlflow"
   ]
  },
  {
   "cell_type": "code",
   "execution_count": 3,
   "metadata": {},
   "outputs": [
    {
     "name": "stderr",
     "output_type": "stream",
     "text": [
      "2023/10/06 19:09:57 INFO mlflow.tracking.fluent: Autologging successfully enabled for sklearn.\n"
     ]
    }
   ],
   "source": [
    "mlflow.autolog()"
   ]
  },
  {
   "cell_type": "code",
   "execution_count": 4,
   "metadata": {},
   "outputs": [],
   "source": [
    "df = pd.read_parquet('data/refined/dataset.parquet')"
   ]
  },
  {
   "cell_type": "code",
   "execution_count": 5,
   "metadata": {},
   "outputs": [
    {
     "data": {
      "text/html": [
       "<div>\n",
       "<style scoped>\n",
       "    .dataframe tbody tr th:only-of-type {\n",
       "        vertical-align: middle;\n",
       "    }\n",
       "\n",
       "    .dataframe tbody tr th {\n",
       "        vertical-align: top;\n",
       "    }\n",
       "\n",
       "    .dataframe thead th {\n",
       "        text-align: right;\n",
       "    }\n",
       "</style>\n",
       "<table border=\"1\" class=\"dataframe\">\n",
       "  <thead>\n",
       "    <tr style=\"text-align: right;\">\n",
       "      <th></th>\n",
       "      <th>asin</th>\n",
       "      <th>brand</th>\n",
       "      <th>price</th>\n",
       "      <th>sales</th>\n",
       "      <th>bsr</th>\n",
       "      <th>fba_fees</th>\n",
       "      <th>active_sellers</th>\n",
       "      <th>ratings</th>\n",
       "      <th>review_count</th>\n",
       "      <th>images</th>\n",
       "      <th>review_velocity</th>\n",
       "      <th>category</th>\n",
       "      <th>top_selling_brand</th>\n",
       "    </tr>\n",
       "  </thead>\n",
       "  <tbody>\n",
       "    <tr>\n",
       "      <th>0</th>\n",
       "      <td>B00NW479QO</td>\n",
       "      <td>Lindt</td>\n",
       "      <td>3.50</td>\n",
       "      <td>13466.0</td>\n",
       "      <td>3.0</td>\n",
       "      <td>2.62</td>\n",
       "      <td>30.0</td>\n",
       "      <td>5.0</td>\n",
       "      <td>44069.0</td>\n",
       "      <td>12.0</td>\n",
       "      <td>868.0</td>\n",
       "      <td>Food Cupboard</td>\n",
       "      <td>True</td>\n",
       "    </tr>\n",
       "    <tr>\n",
       "      <th>1</th>\n",
       "      <td>B004OCO20E</td>\n",
       "      <td>Andrex</td>\n",
       "      <td>18.28</td>\n",
       "      <td>13338.0</td>\n",
       "      <td>2.0</td>\n",
       "      <td>8.38</td>\n",
       "      <td>30.0</td>\n",
       "      <td>5.0</td>\n",
       "      <td>40397.0</td>\n",
       "      <td>5.0</td>\n",
       "      <td>830.0</td>\n",
       "      <td>Grocery</td>\n",
       "      <td>True</td>\n",
       "    </tr>\n",
       "    <tr>\n",
       "      <th>2</th>\n",
       "      <td>B0049NYI7K</td>\n",
       "      <td>BAILEYS</td>\n",
       "      <td>9.99</td>\n",
       "      <td>11194.0</td>\n",
       "      <td>4.0</td>\n",
       "      <td>3.93</td>\n",
       "      <td>22.0</td>\n",
       "      <td>5.0</td>\n",
       "      <td>3827.0</td>\n",
       "      <td>6.0</td>\n",
       "      <td>235.0</td>\n",
       "      <td>Beer, Wine &amp; Spirits</td>\n",
       "      <td>True</td>\n",
       "    </tr>\n",
       "    <tr>\n",
       "      <th>3</th>\n",
       "      <td>B016DEGFWI</td>\n",
       "      <td>Tassimo</td>\n",
       "      <td>14.87</td>\n",
       "      <td>13492.0</td>\n",
       "      <td>2.0</td>\n",
       "      <td>5.19</td>\n",
       "      <td>11.0</td>\n",
       "      <td>5.0</td>\n",
       "      <td>28800.0</td>\n",
       "      <td>5.0</td>\n",
       "      <td>466.0</td>\n",
       "      <td>Fresh &amp; Chilled</td>\n",
       "      <td>True</td>\n",
       "    </tr>\n",
       "    <tr>\n",
       "      <th>4</th>\n",
       "      <td>B07JVF2FCV</td>\n",
       "      <td>Tassimo</td>\n",
       "      <td>45.00</td>\n",
       "      <td>13377.0</td>\n",
       "      <td>6.0</td>\n",
       "      <td>11.03</td>\n",
       "      <td>1.0</td>\n",
       "      <td>5.0</td>\n",
       "      <td>27494.0</td>\n",
       "      <td>9.0</td>\n",
       "      <td>223.0</td>\n",
       "      <td>Drinks</td>\n",
       "      <td>True</td>\n",
       "    </tr>\n",
       "  </tbody>\n",
       "</table>\n",
       "</div>"
      ],
      "text/plain": [
       "         asin    brand  price    sales  bsr  fba_fees  active_sellers  \\\n",
       "0  B00NW479QO    Lindt   3.50  13466.0  3.0      2.62            30.0   \n",
       "1  B004OCO20E   Andrex  18.28  13338.0  2.0      8.38            30.0   \n",
       "2  B0049NYI7K  BAILEYS   9.99  11194.0  4.0      3.93            22.0   \n",
       "3  B016DEGFWI  Tassimo  14.87  13492.0  2.0      5.19            11.0   \n",
       "4  B07JVF2FCV  Tassimo  45.00  13377.0  6.0     11.03             1.0   \n",
       "\n",
       "   ratings  review_count  images  review_velocity              category  \\\n",
       "0      5.0       44069.0    12.0            868.0         Food Cupboard   \n",
       "1      5.0       40397.0     5.0            830.0               Grocery   \n",
       "2      5.0        3827.0     6.0            235.0  Beer, Wine & Spirits   \n",
       "3      5.0       28800.0     5.0            466.0       Fresh & Chilled   \n",
       "4      5.0       27494.0     9.0            223.0                Drinks   \n",
       "\n",
       "   top_selling_brand  \n",
       "0               True  \n",
       "1               True  \n",
       "2               True  \n",
       "3               True  \n",
       "4               True  "
      ]
     },
     "execution_count": 5,
     "metadata": {},
     "output_type": "execute_result"
    }
   ],
   "source": [
    "df.head()"
   ]
  },
  {
   "cell_type": "code",
   "execution_count": 6,
   "metadata": {},
   "outputs": [],
   "source": [
    "df_model = df.drop(columns = ['asin','brand'])\n",
    "\n",
    "df_model = pd.concat([df_model,pd.get_dummies(df_model['category'])], axis = 1)\n",
    "\n",
    "X = df_model.drop(columns = ['sales','category'])\n",
    "\n",
    "y = df_model['sales']"
   ]
  },
  {
   "cell_type": "code",
   "execution_count": 7,
   "metadata": {},
   "outputs": [],
   "source": [
    "lr = LinearRegression()\n",
    "en = ElasticNet()\n",
    "dt = DecisionTreeRegressor()\n",
    "rf = RandomForestRegressor()\n",
    "\n",
    "models = [lr,en,dt,rf]"
   ]
  },
  {
   "cell_type": "code",
   "execution_count": 8,
   "metadata": {},
   "outputs": [],
   "source": [
    "X_train, X_test, y_train, y_test = train_test_split(X,y, test_size=0.2, random_state = 123)"
   ]
  },
  {
   "cell_type": "code",
   "execution_count": 9,
   "metadata": {},
   "outputs": [],
   "source": [
    "en_params = {\n",
    "    'alpha': [0.1, 1],\n",
    "    'l1_ratio': [0, 0.5, 1],\n",
    "}\n",
    "\n",
    "dt_params = {\n",
    "                'max_depth': [3, 5, 10],\n",
    "                'min_samples_split': [2, 5, 10],\n",
    "                'min_samples_leaf': [1, 3, 5]\n",
    "            }\n",
    "\n",
    "rf_params = {\n",
    "                'n_estimators': [100, 200, 500],\n",
    "                'max_depth': [3, 5, 10],\n",
    "                'min_samples_split': [2, 5, 10],\n",
    "            }\n"
   ]
  },
  {
   "cell_type": "markdown",
   "metadata": {},
   "source": [
    "# Baseline Model - Linear Regression"
   ]
  },
  {
   "cell_type": "code",
   "execution_count": 18,
   "metadata": {},
   "outputs": [
    {
     "name": "stderr",
     "output_type": "stream",
     "text": [
      "2023/10/06 21:29:57 WARNING mlflow.utils.autologging_utils: MLflow autologging encountered a warning: \"c:\\Users\\Lucca\\miniconda3\\envs\\amz_mlflow\\Lib\\site-packages\\mlflow\\data\\digest_utils.py:26: FutureWarning: DataFrame.applymap has been deprecated. Use DataFrame.map instead.\"\n",
      "2023/10/06 21:30:02 WARNING mlflow.utils.autologging_utils: MLflow autologging encountered a warning: \"c:\\Users\\Lucca\\miniconda3\\envs\\amz_mlflow\\Lib\\site-packages\\mlflow\\data\\digest_utils.py:26: FutureWarning: DataFrame.applymap has been deprecated. Use DataFrame.map instead.\"\n"
     ]
    },
    {
     "name": "stdout",
     "output_type": "stream",
     "text": [
      "Test RMSE 1229.6854779511893\n",
      "Test MAE 540.7653672163756\n",
      "Test R2 0.4933493760092217\n"
     ]
    }
   ],
   "source": [
    "with mlflow.start_run() as run:\n",
    "\n",
    "    lr.fit(X_train, y_train)\n",
    "\n",
    "    y_pred = lr.predict(X_test)\n",
    "\n",
    "    mse = mean_squared_error(y_test, y_pred, squared=False)\n",
    "    mae = mean_absolute_error(y_test, y_pred)\n",
    "    r2 = r2_score(y_test, y_pred)\n",
    "\n",
    "    mlflow.log_metrics({'RMSE':mse,\n",
    "                       'MAE':mae,\n",
    "                       'R2':r2})\n",
    "\n",
    "    print('Test RMSE',mse)\n",
    "    print('Test MAE', mae)\n",
    "    print('Test R2', r2)"
   ]
  },
  {
   "cell_type": "markdown",
   "metadata": {},
   "source": [
    "# Other Models and Hyperparameter Optimization"
   ]
  },
  {
   "cell_type": "code",
   "execution_count": 19,
   "metadata": {},
   "outputs": [],
   "source": [
    "model_list = [(en, en_params),\n",
    "              (dt, dt_params),\n",
    "              (rf, rf_params)]"
   ]
  },
  {
   "cell_type": "code",
   "execution_count": 20,
   "metadata": {},
   "outputs": [
    {
     "name": "stderr",
     "output_type": "stream",
     "text": [
      "2023/10/06 21:30:12 WARNING mlflow.utils.autologging_utils: MLflow autologging encountered a warning: \"c:\\Users\\Lucca\\miniconda3\\envs\\amz_mlflow\\Lib\\site-packages\\mlflow\\data\\digest_utils.py:26: FutureWarning: DataFrame.applymap has been deprecated. Use DataFrame.map instead.\"\n"
     ]
    },
    {
     "name": "stdout",
     "output_type": "stream",
     "text": [
      "Fitting 5 folds for each of 6 candidates, totalling 30 fits\n"
     ]
    },
    {
     "name": "stderr",
     "output_type": "stream",
     "text": [
      "2023/10/06 21:30:25 INFO mlflow.sklearn.utils: Logging the 5 best runs, one run will be omitted.\n",
      "2023/10/06 21:30:25 WARNING mlflow.utils.autologging_utils: MLflow autologging encountered a warning: \"c:\\Users\\Lucca\\miniconda3\\envs\\amz_mlflow\\Lib\\site-packages\\mlflow\\data\\digest_utils.py:26: FutureWarning: DataFrame.applymap has been deprecated. Use DataFrame.map instead.\"\n",
      "2023/10/06 21:30:26 WARNING mlflow.utils.autologging_utils: MLflow autologging encountered a warning: \"c:\\Users\\Lucca\\miniconda3\\envs\\amz_mlflow\\Lib\\site-packages\\mlflow\\data\\digest_utils.py:26: FutureWarning: DataFrame.applymap has been deprecated. Use DataFrame.map instead.\"\n"
     ]
    },
    {
     "name": "stdout",
     "output_type": "stream",
     "text": [
      "Fitting 5 folds for each of 27 candidates, totalling 135 fits\n"
     ]
    },
    {
     "name": "stderr",
     "output_type": "stream",
     "text": [
      "2023/10/06 21:30:34 INFO mlflow.sklearn.utils: Logging the 5 best runs, 22 runs will be omitted.\n",
      "2023/10/06 21:30:34 WARNING mlflow.utils.autologging_utils: MLflow autologging encountered a warning: \"c:\\Users\\Lucca\\miniconda3\\envs\\amz_mlflow\\Lib\\site-packages\\mlflow\\data\\digest_utils.py:26: FutureWarning: DataFrame.applymap has been deprecated. Use DataFrame.map instead.\"\n",
      "2023/10/06 21:30:34 WARNING mlflow.utils.autologging_utils: MLflow autologging encountered a warning: \"c:\\Users\\Lucca\\miniconda3\\envs\\amz_mlflow\\Lib\\site-packages\\mlflow\\data\\digest_utils.py:26: FutureWarning: DataFrame.applymap has been deprecated. Use DataFrame.map instead.\"\n"
     ]
    },
    {
     "name": "stdout",
     "output_type": "stream",
     "text": [
      "Fitting 5 folds for each of 27 candidates, totalling 135 fits\n"
     ]
    },
    {
     "name": "stderr",
     "output_type": "stream",
     "text": [
      "2023/10/06 21:32:36 INFO mlflow.sklearn.utils: Logging the 5 best runs, 22 runs will be omitted.\n",
      "2023/10/06 21:32:36 WARNING mlflow.utils.autologging_utils: MLflow autologging encountered a warning: \"c:\\Users\\Lucca\\miniconda3\\envs\\amz_mlflow\\Lib\\site-packages\\mlflow\\data\\digest_utils.py:26: FutureWarning: DataFrame.applymap has been deprecated. Use DataFrame.map instead.\"\n"
     ]
    }
   ],
   "source": [
    "for model, pg in model_list:\n",
    "    with mlflow.start_run() as run:\n",
    "            \n",
    "            cv = GridSearchCV(model,\n",
    "                            param_grid = pg,\n",
    "                            n_jobs = -1,\n",
    "                            verbose=1)\n",
    "            \n",
    "            cv.fit(X_train, y_train)\n",
    "\n",
    "            y_pred = cv.predict(X_test)\n",
    "\n",
    "            mse = mean_squared_error(y_test, y_pred, squared=False)\n",
    "            mae = mean_absolute_error(y_test, y_pred)\n",
    "            r2 = r2_score(y_test, y_pred)\n",
    "\n",
    "            mlflow.log_metrics({'RMSE':mse,\n",
    "                                'MAE':mae,\n",
    "                                'R2':r2})"
   ]
  },
  {
   "cell_type": "code",
   "execution_count": null,
   "metadata": {},
   "outputs": [],
   "source": []
  }
 ],
 "metadata": {
  "kernelspec": {
   "display_name": "amz_mlflow",
   "language": "python",
   "name": "python3"
  },
  "language_info": {
   "codemirror_mode": {
    "name": "ipython",
    "version": 3
   },
   "file_extension": ".py",
   "mimetype": "text/x-python",
   "name": "python",
   "nbconvert_exporter": "python",
   "pygments_lexer": "ipython3",
   "version": "3.11.6"
  }
 },
 "nbformat": 4,
 "nbformat_minor": 2
}
